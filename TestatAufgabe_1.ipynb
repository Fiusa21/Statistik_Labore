{
 "cells": [
  {
   "cell_type": "markdown",
   "id": "c5f12dd8",
   "metadata": {},
   "source": [
    "# Statistik-Labor Testat Aufgabe 1\n",
    "***Hinweise:***\n",
    "- Bitte überprüfen Sie Ihre Resultate vor der Abgabe Ihre Ergebnisse mit den Teilergebnissen aus der Datei ***Teilergebnisse_xy.txt***. In der Datei bekommen Sie jeweils die ersten beiden Nachkommastellen des Durchschnittsalters.\n",
    "- Die Unterlagen sind im **pdf-Format** in Moodle hochgeladen abzugeben. Richtige Lösungen werden nicht mehr an Sie zurückgegeben. Eine Abgabe per Email ist nicht möglich.\n",
    "- Bitte füllen Sie das jeweilige **Deckblatt** mit aus und geben es mit Ihrer Lösung zusammen ab.\n",
    "\n",
    "***Aufgabenstellung:***<br>\n",
    "Sie sollen für die Personalabteilung der NANUAG die Altersverteilung der Beschäftigten analysieren. <br>\n",
    "In der Datei **sr_aufg_1_xy.txt** im Unterverzeichnis **Endziffer_xy** (*„xy“ steht für die beiden Endziffern Ihrer Matrikelnummer*) finden Sie die dafür erforderlichen Daten. <br>\n",
    "Diese Datei enthält folgende fünf Felder, die durch Semikolons getrennt sind: Personalnummer, Anrede („Herr“ oder „Frau“), Vorname, Nachname, Geburtsdatum.\n",
    "\n",
    "## 1. Daten einlesen\n",
    "Lesen Sie Daten in **Python** bzw. ein **Jupyter Notebook** ein. Speichern Sie sie in einem **Pandas DataFrame** ab.\n",
    "\n",
    "***Tipp:*** Bitte beachten Sie bei der Abgabe, dass Sie auf keinen Fall die Liste mit den 100 Datensätzen ausgeben! Verwenden Sie dafür zum Beispiel die `dataframe.head(x)`-Funktion."
   ]
  },
  {
   "cell_type": "code",
   "execution_count": 2,
   "id": "ce045973",
   "metadata": {
    "ExecuteTime": {
     "end_time": "2024-03-25T21:45:26.066548Z",
     "start_time": "2024-03-25T21:45:25.041373Z"
    }
   },
   "outputs": [
    {
     "data": {
      "text/plain": "     Pers.Nr. Anrede      Vorname    Nachname       Geburtsdatum\n0           1   Herr       Martin  Zimmermann         11.10.1702\n1           2   Frau    Felicitas     Schmidt         08.02.1946\n2           3   Frau        Marie       Fuchs         19.04.1952\n3           4   Herr          Uwe       Kraft         23.02.1967\n4           5   Herr       Stefan        Vogt         17.07.1964\n..        ...    ...          ...         ...                ...\n107       108   Herr      Michael      Kleber         18.01.1970\n108       109   Herr      Andreas     Fischer             28.10.\n109       110   Herr      Philipp    Bischoff  am 19. April 1968\n110       111   Frau         Lena       Bauer         16.01.1957\n111       112   Herr  Hans-Jürgen      Berger         17.06.1963\n\n[112 rows x 5 columns]",
      "text/html": "<div>\n<style scoped>\n    .dataframe tbody tr th:only-of-type {\n        vertical-align: middle;\n    }\n\n    .dataframe tbody tr th {\n        vertical-align: top;\n    }\n\n    .dataframe thead th {\n        text-align: right;\n    }\n</style>\n<table border=\"1\" class=\"dataframe\">\n  <thead>\n    <tr style=\"text-align: right;\">\n      <th></th>\n      <th>Pers.Nr.</th>\n      <th>Anrede</th>\n      <th>Vorname</th>\n      <th>Nachname</th>\n      <th>Geburtsdatum</th>\n    </tr>\n  </thead>\n  <tbody>\n    <tr>\n      <th>0</th>\n      <td>1</td>\n      <td>Herr</td>\n      <td>Martin</td>\n      <td>Zimmermann</td>\n      <td>11.10.1702</td>\n    </tr>\n    <tr>\n      <th>1</th>\n      <td>2</td>\n      <td>Frau</td>\n      <td>Felicitas</td>\n      <td>Schmidt</td>\n      <td>08.02.1946</td>\n    </tr>\n    <tr>\n      <th>2</th>\n      <td>3</td>\n      <td>Frau</td>\n      <td>Marie</td>\n      <td>Fuchs</td>\n      <td>19.04.1952</td>\n    </tr>\n    <tr>\n      <th>3</th>\n      <td>4</td>\n      <td>Herr</td>\n      <td>Uwe</td>\n      <td>Kraft</td>\n      <td>23.02.1967</td>\n    </tr>\n    <tr>\n      <th>4</th>\n      <td>5</td>\n      <td>Herr</td>\n      <td>Stefan</td>\n      <td>Vogt</td>\n      <td>17.07.1964</td>\n    </tr>\n    <tr>\n      <th>...</th>\n      <td>...</td>\n      <td>...</td>\n      <td>...</td>\n      <td>...</td>\n      <td>...</td>\n    </tr>\n    <tr>\n      <th>107</th>\n      <td>108</td>\n      <td>Herr</td>\n      <td>Michael</td>\n      <td>Kleber</td>\n      <td>18.01.1970</td>\n    </tr>\n    <tr>\n      <th>108</th>\n      <td>109</td>\n      <td>Herr</td>\n      <td>Andreas</td>\n      <td>Fischer</td>\n      <td>28.10.</td>\n    </tr>\n    <tr>\n      <th>109</th>\n      <td>110</td>\n      <td>Herr</td>\n      <td>Philipp</td>\n      <td>Bischoff</td>\n      <td>am 19. April 1968</td>\n    </tr>\n    <tr>\n      <th>110</th>\n      <td>111</td>\n      <td>Frau</td>\n      <td>Lena</td>\n      <td>Bauer</td>\n      <td>16.01.1957</td>\n    </tr>\n    <tr>\n      <th>111</th>\n      <td>112</td>\n      <td>Herr</td>\n      <td>Hans-Jürgen</td>\n      <td>Berger</td>\n      <td>17.06.1963</td>\n    </tr>\n  </tbody>\n</table>\n<p>112 rows × 5 columns</p>\n</div>"
     },
     "execution_count": 2,
     "metadata": {},
     "output_type": "execute_result"
    }
   ],
   "source": [
    "import pandas as pd\n",
    "\n",
    "#ToDo: 1. Ersetzen Sie im Dateinamen xy durch entsprechende Matrikelnummer\n",
    "#      2. Lassen Sie sich alle Daten anzeigen, um \"fehlerhafte\" Daten zu erkennen\n",
    "\n",
    "data = pd.read_csv('datasets/sr_aufg_1_13.txt', sep=';', \n",
    "            encoding='unicode_escape', na_values='.', header = None, \n",
    "            names=['Pers.Nr.', 'Anrede', 'Vorname', 'Nachname', 'Geburtsdatum'])\n",
    "data"
   ]
  },
  {
   "cell_type": "markdown",
   "id": "77f6ad92",
   "metadata": {},
   "source": [
    "## 2. Daten bereinigen\n",
    "Führen Sie eine Datenbereinigung durch. <br>\n",
    "Listen Sie in einer Tabelle auf, welche (Daten-)Sätze Sie gelöscht und welche Sätze Sie wie korrigiert haben. \n",
    "\n",
    "***Tipp:*** Sie können hierzu die Python Funktionen `dataframe.drop()` und `dataframe.at()` verwenden. <br>\n",
    "***Beispiellösung:***\n",
    "![Beispiellösung](https://drive.google.com/uc?id=1z5Gydg1HzoxZLo428862fsgsKyaHKKm9)"
   ]
  },
  {
   "cell_type": "code",
   "execution_count": 3,
   "id": "a791ba7b",
   "metadata": {
    "ExecuteTime": {
     "end_time": "2024-03-25T21:45:26.097262Z",
     "start_time": "2024-03-25T21:45:26.067548Z"
    }
   },
   "outputs": [
    {
     "data": {
      "text/plain": "   Pers.Nr. Anrede        Vorname    Nachname       Geburtsdatum Datensatz?  \\\n0         1   Herr         Martin  Zimmermann         11.10.1702    Löschen   \n1         9   Frau          Karin     Schnell        10.03.25408    Löschen   \n2        26   Frau           Emma    Kirchner                       Löschen   \n3        36   Herr  Walter Knecht  25.02.1969                NaN  Korrektur   \n4        45   Frau         Ingrid       Mayer                18.    Löschen   \n5        46   Herr          Anton       Braun               xxxx    Löschen   \n6        60   Frau          Diana      Schwab         YPTUTksyNg    Löschen   \n7        78   Herr        Joachim       Weber                ???    Löschen   \n8       106   Herr        Bertram       Klein         16.05.2561    Löschen   \n9       109   Herr        Andreas     Fischer             28.10.    Löschen   \n10      110   Herr        Philipp    Bischoff  am 19. April 1968  Korrektur   \n\n           Typ des Fehlers  \n0           Datum ungültig  \n1              Jahr 25408?  \n2                Datum N/A  \n3   Eintrag falsche Spalte  \n4                Datum N/A  \n5                Datum N/A  \n6                Datum N/A  \n7                Datum N/A  \n8               Jahr 2561?  \n9   Datum N/A (Jahr fehlt)  \n10            Format Datum  ",
      "text/html": "<div>\n<style scoped>\n    .dataframe tbody tr th:only-of-type {\n        vertical-align: middle;\n    }\n\n    .dataframe tbody tr th {\n        vertical-align: top;\n    }\n\n    .dataframe thead th {\n        text-align: right;\n    }\n</style>\n<table border=\"1\" class=\"dataframe\">\n  <thead>\n    <tr style=\"text-align: right;\">\n      <th></th>\n      <th>Pers.Nr.</th>\n      <th>Anrede</th>\n      <th>Vorname</th>\n      <th>Nachname</th>\n      <th>Geburtsdatum</th>\n      <th>Datensatz?</th>\n      <th>Typ des Fehlers</th>\n    </tr>\n  </thead>\n  <tbody>\n    <tr>\n      <th>0</th>\n      <td>1</td>\n      <td>Herr</td>\n      <td>Martin</td>\n      <td>Zimmermann</td>\n      <td>11.10.1702</td>\n      <td>Löschen</td>\n      <td>Datum ungültig</td>\n    </tr>\n    <tr>\n      <th>1</th>\n      <td>9</td>\n      <td>Frau</td>\n      <td>Karin</td>\n      <td>Schnell</td>\n      <td>10.03.25408</td>\n      <td>Löschen</td>\n      <td>Jahr 25408?</td>\n    </tr>\n    <tr>\n      <th>2</th>\n      <td>26</td>\n      <td>Frau</td>\n      <td>Emma</td>\n      <td>Kirchner</td>\n      <td></td>\n      <td>Löschen</td>\n      <td>Datum N/A</td>\n    </tr>\n    <tr>\n      <th>3</th>\n      <td>36</td>\n      <td>Herr</td>\n      <td>Walter Knecht</td>\n      <td>25.02.1969</td>\n      <td>NaN</td>\n      <td>Korrektur</td>\n      <td>Eintrag falsche Spalte</td>\n    </tr>\n    <tr>\n      <th>4</th>\n      <td>45</td>\n      <td>Frau</td>\n      <td>Ingrid</td>\n      <td>Mayer</td>\n      <td>18.</td>\n      <td>Löschen</td>\n      <td>Datum N/A</td>\n    </tr>\n    <tr>\n      <th>5</th>\n      <td>46</td>\n      <td>Herr</td>\n      <td>Anton</td>\n      <td>Braun</td>\n      <td>xxxx</td>\n      <td>Löschen</td>\n      <td>Datum N/A</td>\n    </tr>\n    <tr>\n      <th>6</th>\n      <td>60</td>\n      <td>Frau</td>\n      <td>Diana</td>\n      <td>Schwab</td>\n      <td>YPTUTksyNg</td>\n      <td>Löschen</td>\n      <td>Datum N/A</td>\n    </tr>\n    <tr>\n      <th>7</th>\n      <td>78</td>\n      <td>Herr</td>\n      <td>Joachim</td>\n      <td>Weber</td>\n      <td>???</td>\n      <td>Löschen</td>\n      <td>Datum N/A</td>\n    </tr>\n    <tr>\n      <th>8</th>\n      <td>106</td>\n      <td>Herr</td>\n      <td>Bertram</td>\n      <td>Klein</td>\n      <td>16.05.2561</td>\n      <td>Löschen</td>\n      <td>Jahr 2561?</td>\n    </tr>\n    <tr>\n      <th>9</th>\n      <td>109</td>\n      <td>Herr</td>\n      <td>Andreas</td>\n      <td>Fischer</td>\n      <td>28.10.</td>\n      <td>Löschen</td>\n      <td>Datum N/A (Jahr fehlt)</td>\n    </tr>\n    <tr>\n      <th>10</th>\n      <td>110</td>\n      <td>Herr</td>\n      <td>Philipp</td>\n      <td>Bischoff</td>\n      <td>am 19. April 1968</td>\n      <td>Korrektur</td>\n      <td>Format Datum</td>\n    </tr>\n  </tbody>\n</table>\n</div>"
     },
     "execution_count": 3,
     "metadata": {},
     "output_type": "execute_result"
    }
   ],
   "source": [
    "#create new data frame as changelog\n",
    "data_changes = pd.DataFrame(columns=['Pers.Nr.', 'Anrede', 'Vorname', 'Nachname', 'Geburtsdatum', 'Datensatz?', 'Typ des Fehlers'])\n",
    "\n",
    "#fill new dataframe with changes \n",
    "data_changes.loc[0] = data.loc[0]\n",
    "data_changes.at[0, 'Datensatz?'] = 'Löschen'\n",
    "data_changes.at[0, 'Typ des Fehlers'] = 'Datum ungültig'\n",
    "\n",
    "data_changes.loc[1] = data.loc[8]\n",
    "data_changes.at[1, 'Datensatz?'] = 'Löschen'\n",
    "data_changes.at[1, 'Typ des Fehlers'] = 'Jahr 25408?'\n",
    "\n",
    "data_changes.loc[2] = data.loc[25]\n",
    "data_changes.at[2, 'Datensatz?'] = 'Löschen'\n",
    "data_changes.at[2, 'Typ des Fehlers'] = 'Datum N/A'\n",
    "\n",
    "data_changes.loc[3] = data.loc[35]\n",
    "data_changes.at[3, 'Datensatz?'] = 'Korrektur'\n",
    "data_changes.at[3, 'Typ des Fehlers'] = 'Eintrag falsche Spalte'\n",
    "\n",
    "data_changes.loc[4] = data.loc[44]\n",
    "data_changes.at[4, 'Datensatz?'] = 'Löschen'\n",
    "data_changes.at[4, 'Typ des Fehlers'] = 'Datum N/A'\n",
    "\n",
    "data_changes.loc[5] = data.loc[45]\n",
    "data_changes.at[5, 'Datensatz?'] = 'Löschen'\n",
    "data_changes.at[5, 'Typ des Fehlers'] = 'Datum N/A'\n",
    "\n",
    "data_changes.loc[6] = data.loc[59]\n",
    "data_changes.at[6, 'Datensatz?'] = 'Löschen'\n",
    "data_changes.at[6, 'Typ des Fehlers'] = 'Datum N/A'\n",
    "\n",
    "data_changes.loc[7] = data.loc[77]\n",
    "data_changes.at[7, 'Datensatz?'] = 'Löschen'\n",
    "data_changes.at[7, 'Typ des Fehlers'] = 'Datum N/A'\n",
    "\n",
    "data_changes.loc[8] = data.loc[105]\n",
    "data_changes.at[8, 'Datensatz?'] = 'Löschen'\n",
    "data_changes.at[8, 'Typ des Fehlers'] = 'Jahr 2561?'\n",
    "\n",
    "data_changes.loc[9] = data.loc[108]\n",
    "data_changes.at[9, 'Datensatz?'] = 'Löschen'\n",
    "data_changes.at[9, 'Typ des Fehlers'] = 'Datum N/A (Jahr fehlt)'\n",
    "\n",
    "data_changes.loc[10] = data.loc[109]\n",
    "data_changes.at[10, 'Datensatz?'] = 'Korrektur'\n",
    "data_changes.at[10, 'Typ des Fehlers'] = 'Format Datum'\n",
    "\n",
    "#correct data\n",
    "data.loc[35, 'Geburtsdatum'] = data.loc[35, 'Nachname']\n",
    "data.at[35, 'Vorname'] = 'Walter'\n",
    "data.at[335, 'Nachname'] = 'Knecht'\n",
    "\n",
    "data.at[109, 'Geburtsdatum'] = '19.04.1968'\n",
    "\n",
    "#remove invalid data from original\n",
    "data = data.drop([0, 8, 25, 44, 45, 59, 77, 105, 108])\n",
    "\n",
    "#reset index\n",
    "data.reset_index(drop=True, inplace=True)\n",
    "#display \"changelog\"\n",
    "data_changes\n",
    "\n",
    "\n",
    "\n"
   ]
  },
  {
   "cell_type": "markdown",
   "id": "04eb7271",
   "metadata": {},
   "source": [
    "## 3. Alter bestimmen\n",
    "Berechnen Sie das Alter der Beschäftigten zum Stichtag 31.12.2005. Mit „Alter“ ist hier die Anzahl der vollendeten Lebensjahre gemeint. <br>\n",
    "*Beispiel:* Wer am 30.06.1975 geborgen ist, ist zum Stichtag 30 Jahre alt. <br>\n",
    "(Niemand würde von sich sagen, er wäre „30,5 Jahre alt“.) Folglich wird diese Person in der Alterklasse 21 – 30 Jahre mitgezählt.\n",
    "\n",
    "***Tipp:*** In Python ist hierzu die Pandas-Bibliothek mit ihre Funktion `pandas.to_datetime()`, sowie `pandas.year` nützlich."
   ]
  },
  {
   "cell_type": "code",
   "execution_count": 4,
   "id": "84148ff3",
   "metadata": {
    "ExecuteTime": {
     "end_time": "2024-03-25T21:45:26.112262Z",
     "start_time": "2024-03-25T21:45:26.099262Z"
    }
   },
   "outputs": [
    {
     "data": {
      "text/plain": "     Pers.Nr. Anrede      Vorname  Nachname Geburtsdatum  Alter\n0         2.0   Frau    Felicitas   Schmidt   1946-02-08   59.0\n1         3.0   Frau        Marie     Fuchs   1952-04-19   53.0\n2         4.0   Herr          Uwe     Kraft   1967-02-23   38.0\n3         5.0   Herr       Stefan      Vogt   1964-07-17   41.0\n4         6.0   Frau       Nicole    Anders   1963-11-22   42.0\n..        ...    ...          ...       ...          ...    ...\n99      108.0   Herr      Michael    Kleber   1970-01-18   35.0\n100     110.0   Herr      Philipp  Bischoff   1968-04-19   37.0\n101     111.0   Frau         Lena     Bauer   1957-01-16   48.0\n102     112.0   Herr  Hans-Jürgen    Berger   1963-06-17   42.0\n103       NaN    NaN          NaN    Knecht          NaT    NaN\n\n[104 rows x 6 columns]",
      "text/html": "<div>\n<style scoped>\n    .dataframe tbody tr th:only-of-type {\n        vertical-align: middle;\n    }\n\n    .dataframe tbody tr th {\n        vertical-align: top;\n    }\n\n    .dataframe thead th {\n        text-align: right;\n    }\n</style>\n<table border=\"1\" class=\"dataframe\">\n  <thead>\n    <tr style=\"text-align: right;\">\n      <th></th>\n      <th>Pers.Nr.</th>\n      <th>Anrede</th>\n      <th>Vorname</th>\n      <th>Nachname</th>\n      <th>Geburtsdatum</th>\n      <th>Alter</th>\n    </tr>\n  </thead>\n  <tbody>\n    <tr>\n      <th>0</th>\n      <td>2.0</td>\n      <td>Frau</td>\n      <td>Felicitas</td>\n      <td>Schmidt</td>\n      <td>1946-02-08</td>\n      <td>59.0</td>\n    </tr>\n    <tr>\n      <th>1</th>\n      <td>3.0</td>\n      <td>Frau</td>\n      <td>Marie</td>\n      <td>Fuchs</td>\n      <td>1952-04-19</td>\n      <td>53.0</td>\n    </tr>\n    <tr>\n      <th>2</th>\n      <td>4.0</td>\n      <td>Herr</td>\n      <td>Uwe</td>\n      <td>Kraft</td>\n      <td>1967-02-23</td>\n      <td>38.0</td>\n    </tr>\n    <tr>\n      <th>3</th>\n      <td>5.0</td>\n      <td>Herr</td>\n      <td>Stefan</td>\n      <td>Vogt</td>\n      <td>1964-07-17</td>\n      <td>41.0</td>\n    </tr>\n    <tr>\n      <th>4</th>\n      <td>6.0</td>\n      <td>Frau</td>\n      <td>Nicole</td>\n      <td>Anders</td>\n      <td>1963-11-22</td>\n      <td>42.0</td>\n    </tr>\n    <tr>\n      <th>...</th>\n      <td>...</td>\n      <td>...</td>\n      <td>...</td>\n      <td>...</td>\n      <td>...</td>\n      <td>...</td>\n    </tr>\n    <tr>\n      <th>99</th>\n      <td>108.0</td>\n      <td>Herr</td>\n      <td>Michael</td>\n      <td>Kleber</td>\n      <td>1970-01-18</td>\n      <td>35.0</td>\n    </tr>\n    <tr>\n      <th>100</th>\n      <td>110.0</td>\n      <td>Herr</td>\n      <td>Philipp</td>\n      <td>Bischoff</td>\n      <td>1968-04-19</td>\n      <td>37.0</td>\n    </tr>\n    <tr>\n      <th>101</th>\n      <td>111.0</td>\n      <td>Frau</td>\n      <td>Lena</td>\n      <td>Bauer</td>\n      <td>1957-01-16</td>\n      <td>48.0</td>\n    </tr>\n    <tr>\n      <th>102</th>\n      <td>112.0</td>\n      <td>Herr</td>\n      <td>Hans-Jürgen</td>\n      <td>Berger</td>\n      <td>1963-06-17</td>\n      <td>42.0</td>\n    </tr>\n    <tr>\n      <th>103</th>\n      <td>NaN</td>\n      <td>NaN</td>\n      <td>NaN</td>\n      <td>Knecht</td>\n      <td>NaT</td>\n      <td>NaN</td>\n    </tr>\n  </tbody>\n</table>\n<p>104 rows × 6 columns</p>\n</div>"
     },
     "execution_count": 4,
     "metadata": {},
     "output_type": "execute_result"
    }
   ],
   "source": [
    "data['Geburtsdatum'] = pd.to_datetime(data['Geburtsdatum'], format='%d.%m.%Y')\n",
    "\n",
    "#new dataframe for age by full years\n",
    "data_age = pd.DataFrame(columns=['Geburtsjahr', 'Alter'])\n",
    "data_age['Geburtsjahr'] = data['Geburtsdatum'].dt.year\n",
    "\n",
    "#calculate age until 31.12.2005 and insert in original data df\n",
    "reference_date = pd.to_datetime('2005-12-31')\n",
    "data['Alter'] = reference_date.year - data_age['Geburtsjahr']\n",
    "\n",
    "data7z"
   ]
  },
  {
   "cell_type": "markdown",
   "id": "6d59ba78",
   "metadata": {},
   "source": [
    "## 4. Säulendiagramm mit Altersverteilung\n",
    "Stellen Sie die Altersverteilung der Beschäftigten in einem gruppierten Säulendiagramm dar, in dem Männer und Frauen getrennt ausgewiesen werden.<br>\n",
    "Es sollen die Altersklassen bis (einschließlich) 20 Jahre, 21 – 30 Jahre, 31 – 40 Jahre, 41 – 50 Jahre und über 50 Jahre gewählt werden.\n",
    "\n",
    "***Tipp:*** Sie benötigen hierfür die Python Bibliothek **Matplotlib** und **NumPy** sowie aus **Pandas** die Funktion `value_counts()`. <br>\n",
    "***Beispiellösung:***\n",
    "<div>\n",
    "<img src=\"https://drive.google.com/uc?id=1f7Vz3JuSa958w8-dBTnPSI24hJxWa17F\" width=\"300\"/>\n",
    "</div>"
   ]
  },
  {
   "cell_type": "code",
   "execution_count": 5,
   "id": "caffbe6f",
   "metadata": {
    "ExecuteTime": {
     "end_time": "2024-03-25T21:45:26.128262Z",
     "start_time": "2024-03-25T21:45:26.113262Z"
    }
   },
   "outputs": [],
   "source": [
    "import matplotlib.pyplot as mp\n",
    "import numpy as np\n",
    "\n",
    "#defining age_groups\n",
    "bins = [0, 20, 30, 40, 50, np.inf]\n",
    "labels = ['0,20', '20,30', '30,40', '40,50', '50,20']\n",
    "\n",
    "data['Altersgruppe'] = pd.cut(data['Alter'], bins=bins, labels=labels, right=False)\n",
    "age_groups_male = data[data['Anrede'] == 'Herr']['Alter'].value_counts(sort=False).fillna(0)\n",
    "age_groups_female = data[data['Anrede'] == 'Frau']['Alter'].value_counts(sort=False).fillna(0)\n",
    "\n",
    "#plotting\n",
    "x = np.arange(len(labels))\n",
    "width = 0.35\n",
    "\n",
    "\n",
    "\n",
    "\n",
    "\n",
    "\n",
    "\n"
   ]
  },
  {
   "cell_type": "markdown",
   "id": "706afc24",
   "metadata": {},
   "source": [
    "## 5. Kreis-/Tortendiagramm der Altersverteilung\n",
    "Stellen Sie die Altersverteilung der männlichen Beschäftigten und der weiblichen Beschäftigten in je einem Kreisdiagramm („Tortendiagramm“) dar. <br>\n",
    "Die Kreissektoren sind mit den zugehörigen Prozentzahlen zu beschriften. \n",
    "\n",
    "***Beispiellösung:***\n",
    "<div>\n",
    "<img src=\"https://drive.google.com/uc?id=17Z5Z8OgKw3DE4U_vD3axd7vhkkkD-N9m\" width=\"300\"/>\n",
    "</div>"
   ]
  },
  {
   "cell_type": "code",
   "execution_count": 5,
   "id": "6a78384c",
   "metadata": {
    "ExecuteTime": {
     "end_time": "2024-03-25T21:45:26.143262Z",
     "start_time": "2024-03-25T21:45:26.129262Z"
    }
   },
   "outputs": [],
   "source": []
  },
  {
   "cell_type": "markdown",
   "id": "4ccce7eb",
   "metadata": {},
   "source": [
    "## 6. Kennzahlen\n",
    "Berechnen Sie **Mittelwert**, **empirische Varianz**, **empirische Standardabweichung**, **Median** und **Spannweite** der Alterszahlen: \n",
    "- für alle Beschäftigen und\n",
    "- getrennt für Männer und Frauen.\n",
    "\n",
    "***Beispiellösung:***\n",
    "<div>\n",
    "<img src=\"https://drive.google.com/uc?id=1adhKBVlds5OlO-9B5CClT2ybPolv5wVW\" width=\"300\"/>\n",
    "</div>"
   ]
  },
  {
   "cell_type": "code",
   "execution_count": 5,
   "id": "d7a4773b",
   "metadata": {
    "ExecuteTime": {
     "end_time": "2024-03-25T21:45:26.158897Z",
     "start_time": "2024-03-25T21:45:26.145773Z"
    }
   },
   "outputs": [],
   "source": []
  },
  {
   "cell_type": "code",
   "execution_count": 5,
   "id": "b3c06d1d",
   "metadata": {
    "ExecuteTime": {
     "end_time": "2024-03-25T21:45:26.174771Z",
     "start_time": "2024-03-25T21:45:26.159771Z"
    }
   },
   "outputs": [],
   "source": []
  }
 ],
 "metadata": {
  "kernelspec": {
   "display_name": "Python 3 (ipykernel)",
   "language": "python",
   "name": "python3"
  },
  "language_info": {
   "codemirror_mode": {
    "name": "ipython",
    "version": 3
   },
   "file_extension": ".py",
   "mimetype": "text/x-python",
   "name": "python",
   "nbconvert_exporter": "python",
   "pygments_lexer": "ipython3",
   "version": "3.10.9"
  }
 },
 "nbformat": 4,
 "nbformat_minor": 5
}
