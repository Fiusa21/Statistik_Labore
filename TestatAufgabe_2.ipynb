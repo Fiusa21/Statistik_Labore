{
 "cells": [
  {
   "cell_type": "markdown",
   "id": "a65c3fa7",
   "metadata": {},
   "source": [
    "# Statistik-Labor Testat Aufgabe 2\n",
    "***Hinweise:***\n",
    "- Bitte überprüfen Sie Ihre Resultate vor der Abgabe Ihre Ergebnisse mit den Teilergebnissen aus der Datei ***Teilergebnisse_xy.txt***.\n",
    "- Die Unterlagen sind im **pdf-Format** in Moodle hochgeladen abzugeben. Richtige Lösungen werden nicht mehr an Sie zurückgegeben. Eine Abgabe per Email ist nicht möglich.\n",
    "- Bitte füllen Sie das jeweilige **Deckblatt** mit aus und geben es mit Ihrer Lösung zusammen ab.\n",
    "\n",
    "***Aufgabenstellung:***<br>\n",
    "Untersuchen Sie die Bevölkerungsentwicklung der USA. <br>\n",
    "In der Datei **sr_aufg_2_xy.txt** im Unterverzeichnis **Endziffer_xy** (*„xy“ steht für die beiden Endziffern Ihrer Matrikelnummer*) finden Sie die dafür erforderlichen Daten. <br>\n",
    "Diese Datei enthält zwei Spalten fester Breite: Jahreszahl und Anzahl der Einwohner der USA in Millionen (zu einem festen Stichtag in dem angegebenen Jahr).\n",
    "\n",
    "## a) Daten einlesen\n",
    "Lesen Sie Daten in **Python** bzw. ein **Jupyter Notebook** ein. Speichern Sie sie in einem **Pandas DataFrame** ab."
   ]
  },
  {
   "cell_type": "code",
   "execution_count": 4,
   "id": "27b964d4",
   "metadata": {
    "ExecuteTime": {
     "end_time": "2024-04-12T09:38:09.557437Z",
     "start_time": "2024-04-12T09:38:09.519441Z"
    }
   },
   "outputs": [
    {
     "data": {
      "text/plain": "    Jahr   Einwohner\n0   1790    3.929214\n1   1800    5.308483\n2   1810    7.239881\n3   1820    9.638453\n4   1830   12.866020\n5   1840   17.069453\n6   1850   23.191876\n7   1860   31.443321\n8   1870   39.818449\n9   1880   50.189209\n10  1890   62.979766\n11  1910   92.228496\n12  1920  106.021537\n13  1930  123.202624\n14  1940  132.164569\n15  1950  151.325798\n16  1960  179.323175\n17  1970  203.302031\n18  1980  226.542199\n19  1990  248.718302\n20  2000  281.424603\n21  2010  308.745538\n22  2020  331.449281",
      "text/html": "<div>\n<style scoped>\n    .dataframe tbody tr th:only-of-type {\n        vertical-align: middle;\n    }\n\n    .dataframe tbody tr th {\n        vertical-align: top;\n    }\n\n    .dataframe thead th {\n        text-align: right;\n    }\n</style>\n<table border=\"1\" class=\"dataframe\">\n  <thead>\n    <tr style=\"text-align: right;\">\n      <th></th>\n      <th>Jahr</th>\n      <th>Einwohner</th>\n    </tr>\n  </thead>\n  <tbody>\n    <tr>\n      <th>0</th>\n      <td>1790</td>\n      <td>3.929214</td>\n    </tr>\n    <tr>\n      <th>1</th>\n      <td>1800</td>\n      <td>5.308483</td>\n    </tr>\n    <tr>\n      <th>2</th>\n      <td>1810</td>\n      <td>7.239881</td>\n    </tr>\n    <tr>\n      <th>3</th>\n      <td>1820</td>\n      <td>9.638453</td>\n    </tr>\n    <tr>\n      <th>4</th>\n      <td>1830</td>\n      <td>12.866020</td>\n    </tr>\n    <tr>\n      <th>5</th>\n      <td>1840</td>\n      <td>17.069453</td>\n    </tr>\n    <tr>\n      <th>6</th>\n      <td>1850</td>\n      <td>23.191876</td>\n    </tr>\n    <tr>\n      <th>7</th>\n      <td>1860</td>\n      <td>31.443321</td>\n    </tr>\n    <tr>\n      <th>8</th>\n      <td>1870</td>\n      <td>39.818449</td>\n    </tr>\n    <tr>\n      <th>9</th>\n      <td>1880</td>\n      <td>50.189209</td>\n    </tr>\n    <tr>\n      <th>10</th>\n      <td>1890</td>\n      <td>62.979766</td>\n    </tr>\n    <tr>\n      <th>11</th>\n      <td>1910</td>\n      <td>92.228496</td>\n    </tr>\n    <tr>\n      <th>12</th>\n      <td>1920</td>\n      <td>106.021537</td>\n    </tr>\n    <tr>\n      <th>13</th>\n      <td>1930</td>\n      <td>123.202624</td>\n    </tr>\n    <tr>\n      <th>14</th>\n      <td>1940</td>\n      <td>132.164569</td>\n    </tr>\n    <tr>\n      <th>15</th>\n      <td>1950</td>\n      <td>151.325798</td>\n    </tr>\n    <tr>\n      <th>16</th>\n      <td>1960</td>\n      <td>179.323175</td>\n    </tr>\n    <tr>\n      <th>17</th>\n      <td>1970</td>\n      <td>203.302031</td>\n    </tr>\n    <tr>\n      <th>18</th>\n      <td>1980</td>\n      <td>226.542199</td>\n    </tr>\n    <tr>\n      <th>19</th>\n      <td>1990</td>\n      <td>248.718302</td>\n    </tr>\n    <tr>\n      <th>20</th>\n      <td>2000</td>\n      <td>281.424603</td>\n    </tr>\n    <tr>\n      <th>21</th>\n      <td>2010</td>\n      <td>308.745538</td>\n    </tr>\n    <tr>\n      <th>22</th>\n      <td>2020</td>\n      <td>331.449281</td>\n    </tr>\n  </tbody>\n</table>\n</div>"
     },
     "execution_count": 4,
     "metadata": {},
     "output_type": "execute_result"
    }
   ],
   "source": [
    "import pandas as pd\n",
    "\n",
    "dat = pd.read_csv('datasets/sr_aufg_2_13.txt', sep='\\s+', decimal=',', header=None, names=['Jahr', 'Einwohner'])\n",
    "#data.head(5)\n",
    "dat"
   ]
  },
  {
   "cell_type": "markdown",
   "id": "1fbf7959",
   "metadata": {},
   "source": [
    "## b) Streudiagramm erstellen\n",
    "Stellen Sie die Bevölkerungsentwicklung in einem Streudiagramm dar."
   ]
  },
  {
   "cell_type": "code",
   "execution_count": null,
   "id": "b824ac3a",
   "metadata": {},
   "outputs": [],
   "source": []
  },
  {
   "cell_type": "markdown",
   "id": "d901e52f",
   "metadata": {},
   "source": [
    "## c) Regressionskurven bestimmen\n",
    "Untersuchen Sie je nach Matrikelnummer Ihre 5 Funktionen um eine Regressionskurve durch die Punkte zu legen:<br>\n",
    "\n",
    "| Gerade Matrikelnummer-Endung: | Ungerade Matrikelnummer-Endung: |\n",
    "| :- | :- |\n",
    "| Lineare Funktion: $\\;\\;$ $y = ax+b$ | Lineare Funktion: $\\;\\;$ $y = ax+b$ |\n",
    "| Polynom 2. Grades: $y = ax^2+bx+c$ | Polynom 2. Grades: $y = ax^2+bx+c$ |\n",
    "| Polynom 4. Grades: $y=ax^4+bx^3+cx^2+dx+e$ | Polynom 3. Grades: $y=ax^3+bx^2+cx+d$ |\n",
    "| Polynom 6. Grades: $y=ax^6+bx^5+cx^4+dx^3+gx^2+ux+v$ | Polynom 6. Grades: $y=ax^6+bx^5+cx^4+dx^3+gx^2+ux+v$ |\n",
    "| Exponentialfunktion: $y=a \\cdot{\\rm e}^{bx}$ | Logarithmusfunktion: $y=a \\cdot\\ln{(x)}-b$ |\n",
    "\n",
    "Stellen Sie **in einer Tabelle den Regressionstyp** (z.B. lineare Funktion, Polynom 2. Grades, …), die **geschätzten Koeffizienten mit Achsenabschnitt und das Bestimmtheitsmaß** dar.\n",
    "\n",
    "***Tipp:***<br>\n",
    "Verwenden Sie für die Schätzung der Regressionskurve und des Bestimmtheitsmaßes standardisierte Eingangswerte (Jahreszahlen)"
   ]
  },
  {
   "cell_type": "code",
   "execution_count": null,
   "id": "887e21ef",
   "metadata": {},
   "outputs": [],
   "source": []
  },
  {
   "cell_type": "markdown",
   "id": "2aa1837a",
   "metadata": {},
   "source": [
    "## d) Beste Kurve wählen\n",
    "Wählen Sie aus den von Ihnen untersuchten Möglichkeiten die am besten geeignete Kurve. **Erläutern** Sie Ihre Wahl."
   ]
  },
  {
   "cell_type": "code",
   "execution_count": null,
   "id": "648d0a51",
   "metadata": {},
   "outputs": [],
   "source": []
  },
  {
   "cell_type": "markdown",
   "id": "7bb70353",
   "metadata": {},
   "source": [
    "## e) Streudiagramm mit Regressionskurve\n",
    "Zeichnen Sie in das Streudiagramm die optimale Regressionskurve aus 4) ein. Dabei sollen auf der x-Achse die Jahreszahlen und auf der y-Achse die Bevölkerungszahl angegeben sein."
   ]
  },
  {
   "cell_type": "code",
   "execution_count": null,
   "id": "9d17410f",
   "metadata": {},
   "outputs": [],
   "source": []
  },
  {
   "cell_type": "markdown",
   "id": "1c622a83",
   "metadata": {},
   "source": [
    "## f) Prognose für das Jahr 2030\n",
    "Berechnen Sie aus den Ihnen vorgelegten Daten eine Prognose über die Bevölkerungszahl der USA im Jahr 2030. **Erläutern** Sie Ihr Vorgehen.\n",
    "\n",
    "***Tipp:***<br>\n",
    "Beim Wert für die Prognose sollten Sie überlegen, ob Ihr Wert stimmen kann oder ob er nicht vielleicht völlig unrealistisch ist. <br>\n",
    "Der Grund für unrealistische Werte ist dabei evtl. gar nicht in der Wahl der Regressionsvariante zu suchen, sondern evtl. darin, dass numerische Probleme vorliegen und die geschätzten Koeffizienten mit zu wenigen Nachkommastellen verwendet werden!"
   ]
  },
  {
   "cell_type": "code",
   "execution_count": null,
   "id": "b870918d",
   "metadata": {},
   "outputs": [],
   "source": []
  }
 ],
 "metadata": {
  "kernelspec": {
   "display_name": "Python 3 (ipykernel)",
   "language": "python",
   "name": "python3"
  },
  "language_info": {
   "codemirror_mode": {
    "name": "ipython",
    "version": 3
   },
   "file_extension": ".py",
   "mimetype": "text/x-python",
   "name": "python",
   "nbconvert_exporter": "python",
   "pygments_lexer": "ipython3",
   "version": "3.9.12"
  }
 },
 "nbformat": 4,
 "nbformat_minor": 5
}
