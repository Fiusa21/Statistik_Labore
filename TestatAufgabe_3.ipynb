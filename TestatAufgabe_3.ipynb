{
 "cells": [
  {
   "cell_type": "markdown",
   "id": "688e681f",
   "metadata": {},
   "source": [
    "# Statistik-Labor Testat Aufgabe 3\n",
    "***Hinweise:***\n",
    "- Bitte überprüfen Sie Ihre Resultate vor der Abgabe Ihre Ergebnisse mit den Teilergebnissen aus der Datei ***Teilergebnisse_xy.txt***.\n",
    "- Die Unterlagen sind im **pdf-Format** in Moodle hochgeladen abzugeben. Richtige Lösungen werden nicht mehr an Sie zurückgegeben. Eine Abgabe per Email ist nicht möglich.\n",
    "- Bitte füllen Sie das jeweilige **Deckblatt** mit aus und geben es mit Ihrer Lösung zusammen ab.\n",
    "\n",
    "***Aufgabenstellung:***<br>\n",
    "In dieser Aufgabe wird die Lotterie „KENO“ untersucht, die die staatlichen Lottogesellschaften täglich (von Montag bis Samstag) anbieten. Bei dieser Lotterie besteht ein Tippfeld aus 70 Zahlen. Ein:e Teilnehmer:in an der Lotterie kann selbst entscheiden, wie viele dieser Zahlen er/sie ankreuzt (mindestens 2, höchstens 10) und welchen Betrag er/sie einsetzt (1, 2, 5 oder 10 Euro). Von den 70 Zahlen werden 20 Gewinnzahlen gezogen. Je nachdem, wie viele der Gewinnzahlen er/sie angekreuzt hatte, bekommt der/die Lotterieteilnehmer:in einen festen Geldbetrag ausgezahlt. Der Gewinnplan (Stand 01.01.2005) ist im Folgenden aufgelistet. (Es gibt Sonderregelungen für die jeweils höchsten Gewinnklassen bei 10 oder 9 getippten Zahlen; diese sollen nicht berücksichtigt werden und sind daher nicht hier aufgeführt.)\n",
    "\n",
    "<table><tr>\n",
    "<img src=\"https://drive.google.com/uc?id=19AUBO7UMNIHeCLUrULL-9gBY_WuODh5n\" alt=\"Drawing\" style=\"width: 400px;\"/>\n",
    "</tr><tr>\n",
    "<td> <img src=\"https://drive.google.com/uc?id=1x2IijEgRFxBhZ4u3tF_jjLrpHqCMhKq_\" alt=\"Drawing\" style=\"width: 400px;\"/> </td>\n",
    "<td> <img src=\"https://drive.google.com/uc?id=1OkchOBHmd8B4yCESXvlz4orbVJj36Fag\" alt=\"Drawing\" style=\"width: 400px;\"/> </td>\n",
    "</tr><tr>\n",
    "<td> <img src=\"https://drive.google.com/uc?id=1rOwpI4uG842uuew_fnQcxs1OisT3Wpje\" alt=\"Drawing\" style=\"width: 400px;\"/> </td>\n",
    "<td> <img src=\"https://drive.google.com/uc?id=1f8BLVyVaUh3SYmIATn8SB3uereJUeB9F\" alt=\"Drawing\" style=\"width: 400px;\"/> </td>\n",
    "</tr><tr>\n",
    "<td> <img src=\"https://drive.google.com/uc?id=17SzdR7YXZxZ1RNn4v_KdwyV1XxD4_TtX\" alt=\"Drawing\" style=\"width: 400px;\"/> </td>\n",
    "<td> <img src=\"https://drive.google.com/uc?id=1suOwSx1Wudiow2Z314dSjhODOQypszgK\" alt=\"Drawing\" style=\"width: 400px;\"/> </td>\n",
    "</tr><tr>\n",
    "<td> <img src=\"https://drive.google.com/uc?id=13-WILkeidHuGA9YCBnVyYOt5uJceWMWD\" alt=\"Drawing\" style=\"width: 400px;\"/> </td>\n",
    "<td> <img src=\"https://drive.google.com/uc?id=1MrYtnAJnSWLX81AMF6MNd3qR6Qpjdm0J\" alt=\"Drawing\" style=\"width: 400px;\"/> </td>\n",
    "</tr></table>\n",
    "\n",
    "Ablesebeispiel: Sie haben auf dem Spielschein in einem Tippfeld 7 Zahlen angekreuzt; Ihr Einsatz beträgt $2\\,€$. Wenn Sie unter Ihren 7 Zahlen genau 5 Richtige sind, erhalten Sie $2\\cdot12\\,€ = 24 €$ ausbezahlt (d. h. Ihr Gewinn beträgt $22\\,€$). Wenn Sie stattdessen nur 3 Richtige haben, erhalten Sie nichts (d. h. Sie haben einen Verlust in Höhe Ihres Einsatzes von $2\\,€$).\n",
    "\n",
    "### a) Tippfeld mit 10 Kästchen \n",
    "Die Zufallsvariablen $X_{10}$ beschreibt den Gewinn eines:r Lotterieteilnehmer:in, der/die in einem Tippfeld 10 Kästchen ankreuzt und $2\\,€$ einsetzt. Berechnen Sie Erwartungswert und Standardabweichung von $X_{10}$."
   ]
  },
  {
   "cell_type": "code",
   "execution_count": 90,
   "id": "379b75a9",
   "metadata": {
    "ExecuteTime": {
     "end_time": "2024-05-20T11:26:55.923705Z",
     "start_time": "2024-05-20T11:26:55.902706Z"
    }
   },
   "outputs": [
    {
     "name": "stdout",
     "output_type": "stream",
     "text": [
      "Kasten      Erwartungswert     Varianz    Standardabweichung\n",
      "--------  ----------------  ----------  --------------------\n",
      "X10                -1.0120  18735.7766              136.8787\n"
     ]
    }
   ],
   "source": [
    "from scipy.stats import hypergeom\n",
    "import numpy as np\n",
    "from tabulate import tabulate\n",
    "from scipy.stats import binom\n",
    "\n",
    "def calculate_expected_value_variance(kasten, n, N, m, gewinn):\n",
    "    dist = hypergeom(N, m, n)\n",
    "    erwartungswert = 0\n",
    "    for k in range(len(gewinn)):\n",
    "        wahrscheinlichkeit = dist.pmf(k)\n",
    "        erwartungswert += wahrscheinlichkeit * gewinn[len(gewinn) - 1 - k]\n",
    "        \n",
    "    varianz = 0\n",
    "    for k in range(len(gewinn)):\n",
    "        wahrscheinlichkeit = dist.pmf(k)\n",
    "        abweichung = (gewinn[len(gewinn) - 1 - k] - erwartungswert) ** 2\n",
    "        varianz += wahrscheinlichkeit * abweichung\n",
    "\n",
    "    standard_deviation = np.sqrt(varianz)\n",
    "    \n",
    "    return erwartungswert, varianz, standard_deviation\n",
    "\n",
    "kasten_10 = \"X10\"\n",
    "n = 20\n",
    "N = 70\n",
    "m = 10\n",
    "gewinn_10 = [199998, 1998, 198, 28, 8, 2, -2, -2, -2, -2, 2]\n",
    "\n",
    "erwartungswert_x10, varianz_x10, standard_deviation_x10 = calculate_expected_value_variance(kasten_10, n, N, m, gewinn_10)\n",
    "\n",
    "# Store the results in a list of lists\n",
    "results = [\n",
    "    [\"X10\", erwartungswert_x10, varianz_x10, standard_deviation_x10]\n",
    "]\n",
    "\n",
    "# Print the results as a table\n",
    "print(tabulate(results, headers=[\"Kasten\", \"Erwartungswert\", \"Varianz\", \"Standardabweichung\"], floatfmt=\".4f\"))"
   ]
  },
  {
   "cell_type": "markdown",
   "id": "5c991640",
   "metadata": {},
   "source": [
    "### b) Weitere Tippfelder\n",
    "Berechnen Sie ebenso die Erwartungswerte und Standardabweichungen von $X_9, ..., X_2$, d. h. dem Gewinn bei Ankreuzen von 9 (bzw. 8, ..., 2) Kästchen in einem Tippfeld jeweils bei Einsatz von $2\\,€$.\n",
    "\n",
    "***Beispiellösung:***<br>\n",
    "- Abgabe für a) und b) mit vollständiger Berechnung (nicht nur Endergebnisse)\n",
    "- am liebsten in tabellarischer Form für $X_{10},...,X_2$"
   ]
  },
  {
   "cell_type": "code",
   "execution_count": 91,
   "id": "25dc8859",
   "metadata": {
    "ExecuteTime": {
     "end_time": "2024-05-20T11:26:55.954705Z",
     "start_time": "2024-05-20T11:26:55.924706Z"
    }
   },
   "outputs": [
    {
     "name": "stdout",
     "output_type": "stream",
     "text": [
      "Kasten      Erwartungswert     Varianz    Standardabweichung\n",
      "--------  ----------------  ----------  --------------------\n",
      "X9                 -0.9991  26218.0757              161.9200\n",
      "X8                 -1.0212   5358.7205               73.2033\n",
      "X7                 -1.0087    331.7899               18.2151\n",
      "X6                 -1.0051    301.3534               17.3595\n",
      "X5                 -1.0020     56.0134                7.4842\n",
      "X4                 -1.0111     11.2623                3.3559\n",
      "X3                 -0.9865     20.9925                4.5818\n",
      "X2                 -1.0559     10.4379                3.2308\n"
     ]
    }
   ],
   "source": [
    "kasten = \"X9\"\n",
    "n = 20\n",
    "N = 70\n",
    "m = 9\n",
    "gewinn_9 = [99998, 1998, 38, 8, 2, -2, -2, -2, -2, 2]\n",
    "erwartungswert_x9, varianz_x9, standard_deviation_x9 = calculate_expected_value_variance(kasten, n, N, m, gewinn_9)\n",
    "\n",
    "kasten = \"X8\"\n",
    "n = 20\n",
    "N = 70\n",
    "m = 8\n",
    "gewinn_8 = [19998, 198, 28, 2, 0, -2, -2, -2, 0]\n",
    "erwartungswert_x8, varianz_x8, standard_deviation_x8 = calculate_expected_value_variance(kasten, n, N, m, gewinn_8)\n",
    "\n",
    "kasten = \"X7\"\n",
    "n = 20\n",
    "N = 70\n",
    "m = 7\n",
    "gewinn_7 = [1998, 198, 22, 0, -2, -2, -2, -2]\n",
    "erwartungswert_x7, varianz_x7, standard_deviation_x7 = calculate_expected_value_variance(kasten, n, N, m, gewinn_7)\n",
    "\n",
    "kasten = \"X6\"\n",
    "n = 20\n",
    "N = 70\n",
    "m = 6\n",
    "gewinn_6 = [998, 28, 2, 0, -2, -2, -2]\n",
    "erwartungswert_x6, varianz_x6, standard_deviation_x6 = calculate_expected_value_variance(kasten, n, N, m, gewinn_6)\n",
    "\n",
    "kasten = \"X5\"\n",
    "n = 20\n",
    "N = 70\n",
    "m = 5\n",
    "gewinn_5 = [198, 12, 2, -2, -2, -2]\n",
    "erwartungswert_x5, varianz_x5, standard_deviation_x5 = calculate_expected_value_variance(kasten, n, N, m, gewinn_5)\n",
    "\n",
    "kasten = \"X4\"\n",
    "n = 20\n",
    "N = 70\n",
    "m = 4\n",
    "gewinn_4 = [42, 2, 0, -2, -2]\n",
    "erwartungswert_x4, varianz_x4, standard_deviation_x4 = calculate_expected_value_variance(kasten, n, N, m, gewinn_4)\n",
    "\n",
    "kasten = \"X3\"\n",
    "n = 20\n",
    "N = 70\n",
    "m = 3\n",
    "gewinn_3 =  [30, 0, -2, -2]\n",
    "erwartungswert_x3, varianz_x3, standard_deviation_x3 = calculate_expected_value_variance(kasten, n, N, m, gewinn_3)\n",
    "\n",
    "kasten = \"X2\"\n",
    "n = 20\n",
    "N = 70\n",
    "m = 2\n",
    "gewinn_2 = [10, -2, -2]\n",
    "erwartungswert_x2, varianz_x2, standard_deviation_x2 = calculate_expected_value_variance(kasten, n, N, m, gewinn_2)\n",
    "\n",
    "\n",
    "# Store the results in a list of lists\n",
    "results = [\n",
    "    [\"X9\", erwartungswert_x9, varianz_x9, standard_deviation_x9],\n",
    "    [\"X8\", erwartungswert_x8, varianz_x8, standard_deviation_x8],\n",
    "    [\"X7\", erwartungswert_x7, varianz_x7, standard_deviation_x7],\n",
    "    [\"X6\", erwartungswert_x6, varianz_x6, standard_deviation_x6],\n",
    "    [\"X5\", erwartungswert_x5, varianz_x5, standard_deviation_x5],\n",
    "    [\"X4\", erwartungswert_x4, varianz_x4, standard_deviation_x4],\n",
    "    [\"X3\", erwartungswert_x3, varianz_x3, standard_deviation_x3],\n",
    "    [\"X2\", erwartungswert_x2, varianz_x2, standard_deviation_x2]\n",
    "]\n",
    "\n",
    "# Print the results as a table\n",
    "print(tabulate(results, headers=[\"Kasten\", \"Erwartungswert\", \"Varianz\", \"Standardabweichung\"], floatfmt=\".4f\"))\n"
   ]
  },
  {
   "cell_type": "markdown",
   "id": "47ded6e2",
   "metadata": {},
   "source": [
    "### c) Gewinnchance-Maximierung\n",
    "Wie viele Kästchen pro Tippfeld sollte ein:e KENO-Spieler:in ankreuzen, der/die den Erwartungswert seines/ihres Gewinns maximieren möchte?"
   ]
  },
  {
   "cell_type": "code",
   "execution_count": 94,
   "id": "042a1f31",
   "metadata": {
    "ExecuteTime": {
     "end_time": "2024-05-20T11:28:06.813321Z",
     "start_time": "2024-05-20T11:28:06.795321Z"
    }
   },
   "outputs": [
    {
     "name": "stdout",
     "output_type": "stream",
     "text": [
      "\n",
      "Gewinnchance-Maximierung: X3 mit einem Erwartungswert von -0.9865\n"
     ]
    }
   ],
   "source": [
    "max_erwartungswert = max(results, key=lambda x: x[1])\n",
    "print(f\"\\nGewinnchance-Maximierung: {max_erwartungswert[0]} mit einem Erwartungswert von {max_erwartungswert[1]:.4f}\")"
   ]
  },
  {
   "cell_type": "markdown",
   "id": "6559d500",
   "metadata": {},
   "source": [
    "### d) Individual Aufgabe\n",
    "Beantworten Sie die in Datei **sr_aufg_3d_xy.txt** im Unterverzeichnis **Endziffer_xy** gestellte Frage (*xy = Endziffern Ihrer Matrikelnummer*). Welche Funktion verwenden Sie hier? Welche Werte muss man für die Parameter einsetzen?\n",
    "\n",
    "***Tipp:***<br>\n",
    "- Die Datei sr_aufg_3d_xy.txt ist nur aus technischen Gründen im .txt-Format abgespeichert. Sie muss nicht in das Notebook eingelesen werden, sondern kann auch mit Microsoft Word, WordPad oder dem Editor gelesen werden.\n",
    "- Es treten (je nach Matrikelnummer) Formulierungen wie \"**höchstens** 9-mal\", \"**mindestens** 9-mal\" oder \"**genau** 9-mal\" auf. Verwechseln Sie diese nicht!"
   ]
  },
  {
   "cell_type": "code",
   "execution_count": 93,
   "id": "7ddd2977",
   "metadata": {
    "ExecuteTime": {
     "end_time": "2024-05-20T11:26:55.985706Z",
     "start_time": "2024-05-20T11:26:55.970706Z"
    }
   },
   "outputs": [
    {
     "name": "stdout",
     "output_type": "stream",
     "text": [
      "Wahrscheinlichkeit, bei 4 Spielen genau 3-mal zu verlieren: 0.2461\n"
     ]
    }
   ],
   "source": [
    "# additional Parameters\n",
    "selected_numbers = 2\n",
    "days = 4\n",
    "\n",
    "# Probability of losing (0 or 1 correct numbers)\n",
    "p_lose_0 = hypergeom.pmf(0, N, n, selected_numbers)\n",
    "p_lose_1 = hypergeom.pmf(1, N, n, selected_numbers)\n",
    "p_lose = p_lose_0 + p_lose_1\n",
    "\n",
    "# Probability of exactly 3 losses in 4 days\n",
    "p_exactly_3_losses = binom.pmf(3, days, p_lose)\n",
    "\n",
    "print(f\"Wahrscheinlichkeit, bei 4 Spielen genau 3-mal zu verlieren: {p_exactly_3_losses:.4f}\")"
   ]
  },
  {
   "cell_type": "code",
   "outputs": [],
   "source": [],
   "metadata": {
    "collapsed": false,
    "ExecuteTime": {
     "end_time": "2024-05-20T11:26:56.001705Z",
     "start_time": "2024-05-20T11:26:55.986705Z"
    }
   },
   "id": "d3eea044de35a8d7",
   "execution_count": 93
  }
 ],
 "metadata": {
  "kernelspec": {
   "display_name": "Python 3 (ipykernel)",
   "language": "python",
   "name": "python3"
  },
  "language_info": {
   "codemirror_mode": {
    "name": "ipython",
    "version": 3
   },
   "file_extension": ".py",
   "mimetype": "text/x-python",
   "name": "python",
   "nbconvert_exporter": "python",
   "pygments_lexer": "ipython3",
   "version": "3.10.9"
  }
 },
 "nbformat": 4,
 "nbformat_minor": 5
}
